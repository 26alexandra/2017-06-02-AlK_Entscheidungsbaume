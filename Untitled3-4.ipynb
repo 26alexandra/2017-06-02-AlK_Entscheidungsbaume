{
 "cells": [
  {
   "cell_type": "code",
   "execution_count": 1,
   "metadata": {
    "collapsed": false
   },
   "outputs": [
    {
     "data": {
      "text/html": [
       "<table>\n",
       "<thead><tr><th scope=col>Tag</th><th scope=col>Wetter</th><th scope=col>Temperatur</th><th scope=col>Wind</th><th scope=col>Joggen</th></tr></thead>\n",
       "<tbody>\n",
       "\t<tr><td>1         </td><td>Sonnig    </td><td>heiß      </td><td>schwach   </td><td>nein      </td></tr>\n",
       "\t<tr><td>2         </td><td>Regnerisch</td><td>kühl      </td><td>stark     </td><td>nein      </td></tr>\n",
       "\t<tr><td>3         </td><td>Bedeckt   </td><td>mild      </td><td>schwach   </td><td>ja        </td></tr>\n",
       "</tbody>\n",
       "</table>\n"
      ],
      "text/latex": [
       "\\begin{tabular}{r|lllll}\n",
       " Tag & Wetter & Temperatur & Wind & Joggen\\\\\n",
       "\\hline\n",
       "\t 1          & Sonnig     & heiß       & schwach    & nein      \\\\\n",
       "\t 2          & Regnerisch & kühl       & stark      & nein      \\\\\n",
       "\t 3          & Bedeckt    & mild       & schwach    & ja        \\\\\n",
       "\\end{tabular}\n"
      ],
      "text/markdown": [
       "\n",
       "Tag | Wetter | Temperatur | Wind | Joggen | \n",
       "|---|---|---|\n",
       "| 1          | Sonnig     | heiß       | schwach    | nein       | \n",
       "| 2          | Regnerisch | kühl       | stark      | nein       | \n",
       "| 3          | Bedeckt    | mild       | schwach    | ja         | \n",
       "\n",
       "\n"
      ],
      "text/plain": [
       "  Tag Wetter     Temperatur Wind    Joggen\n",
       "1 1   Sonnig     heiß       schwach nein  \n",
       "2 2   Regnerisch kühl       stark   nein  \n",
       "3 3   Bedeckt    mild       schwach ja    "
      ]
     },
     "metadata": {},
     "output_type": "display_data"
    }
   ],
   "source": [
    "Beispiel=data.frame(Tag=c(1,2,3),Wetter=c(\"Sonnig\",\"Regnerisch\",\"Bedeckt\"),Temperatur=c(\"heiß\",\"kühl\",\"mild\"),Wind=c(\"schwach\",\"stark\",\"schwach\"),Joggen=c(\"nein\",\"nein\",\"ja\"),stringsAsFactors = FALSE)\n",
    "\n",
    "Beispiel\n"
   ]
  },
  {
   "cell_type": "markdown",
   "metadata": {},
   "source": [
    "1. Nach welchen Regeln kann zur dieser Tabelle ein Baum erstellt werden?\n",
    "2. Berechnen Sie die Entropie\n",
    "3. Berechnen Sie den gini-Index"
   ]
  }
 ],
 "metadata": {
  "kernelspec": {
   "display_name": "R",
   "language": "R",
   "name": "ir"
  },
  "language_info": {
   "codemirror_mode": "r",
   "file_extension": ".r",
   "mimetype": "text/x-r-source",
   "name": "R",
   "pygments_lexer": "r",
   "version": "3.3.2"
  }
 },
 "nbformat": 4,
 "nbformat_minor": 2
}
